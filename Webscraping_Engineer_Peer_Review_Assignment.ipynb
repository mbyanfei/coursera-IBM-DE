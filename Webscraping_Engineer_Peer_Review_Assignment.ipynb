{
 "cells": [
  {
   "cell_type": "markdown",
   "metadata": {},
   "source": [
    "<center>\n",
    "    <img src=\"https://gitlab.com/ibm/skills-network/courses/placeholder101/-/raw/master/labs/module%201/images/IDSNlogo.png\" width=\"300\" alt=\"cognitiveclass.ai logo\"  />\n",
    "</center>\n"
   ]
  },
  {
   "cell_type": "markdown",
   "metadata": {},
   "source": [
    "# Peer Review Assignment - Data Engineer - Webscraping\n"
   ]
  },
  {
   "cell_type": "markdown",
   "metadata": {},
   "source": [
    "Estimated time needed: **20** minutes\n"
   ]
  },
  {
   "cell_type": "markdown",
   "metadata": {},
   "source": [
    "## Objectives\n",
    "\n",
    "In this part you will:\n",
    "\n",
    "*   Use webscraping to get bank information\n"
   ]
  },
  {
   "cell_type": "markdown",
   "metadata": {},
   "source": [
    "For this lab, we are going to be using Python and several Python libraries. Some of these libraries might be installed in your lab environment or in SN Labs. Others may need to be installed by you. The cells below will install these libraries when executed.\n"
   ]
  },
  {
   "cell_type": "code",
   "execution_count": null,
   "metadata": {},
   "outputs": [],
   "source": [
    "#!pip install pandas\n",
    "!pip install bs4\n",
    "#!pip install requests"
   ]
  },
  {
   "cell_type": "markdown",
   "metadata": {},
   "source": [
    "## Imports\n",
    "\n",
    "Import any additional libraries you may need here.\n"
   ]
  },
  {
   "cell_type": "code",
   "execution_count": 2,
   "metadata": {},
   "outputs": [],
   "source": [
    "from bs4 import BeautifulSoup\n",
    "import requests\n",
    "import pandas as pd"
   ]
  },
  {
   "cell_type": "markdown",
   "metadata": {},
   "source": [
    "## Extract Data Using Web Scraping\n"
   ]
  },
  {
   "cell_type": "markdown",
   "metadata": {},
   "source": [
    "The wikipedia webpage [https://en.wikipedia.org/wiki/List_of_largest_banks](https://en.wikipedia.org/wiki/List_of_largest_banks?utm_medium=Exinfluencer&utm_source=Exinfluencer&utm_content=000026UJ&utm_term=10006555&utm_id=NA-SkillsNetwork-Channel-SkillsNetworkCoursesIBMDeveloperSkillsNetworkPY0221ENSkillsNetwork23455645-2021-01-01) provides information about largest banks in the world by various parameters. Scrape the data from the table 'By market capitalization' and store it in a JSON file.\n"
   ]
  },
  {
   "cell_type": "markdown",
   "metadata": {},
   "source": [
    "### Webpage Contents\n",
    "\n",
    "Gather the contents of the webpage in text format using the `requests` library and assign it to the variable <code>html_data</code>\n"
   ]
  },
  {
   "cell_type": "code",
   "execution_count": 83,
   "metadata": {},
   "outputs": [
    {
     "name": "stdout",
     "output_type": "stream",
     "text": [
      "200\n"
     ]
    }
   ],
   "source": [
    "#Write your code here\n",
    "response = requests.get('https://en.wikipedia.org/wiki/List_of_largest_banks')\n",
    "print(response.status_code)"
   ]
  },
  {
   "cell_type": "code",
   "execution_count": 84,
   "metadata": {},
   "outputs": [],
   "source": [
    "data = response.text\n",
    "# data"
   ]
  },
  {
   "cell_type": "markdown",
   "metadata": {},
   "source": [
    "<b>Question 1</b> Print out the output of the following line, and remember it as it will be a quiz question:\n"
   ]
  },
  {
   "cell_type": "code",
   "execution_count": 85,
   "metadata": {},
   "outputs": [
    {
     "data": {
      "text/plain": [
       "'List of largest banks -'"
      ]
     },
     "execution_count": 85,
     "metadata": {},
     "output_type": "execute_result"
    }
   ],
   "source": [
    "data[101:124]"
   ]
  },
  {
   "cell_type": "code",
   "execution_count": 31,
   "metadata": {},
   "outputs": [],
   "source": [
    "import json\n",
    "# json.loads(data)"
   ]
  },
  {
   "cell_type": "code",
   "execution_count": 17,
   "metadata": {},
   "outputs": [
    {
     "name": "stdout",
     "output_type": "stream",
     "text": [
      "{'Name': 'Jennifer Smith', 'Contact Number': 7867567898, 'Email': 'jen123@gmail.com', 'Hobbies': ['Reading', 'Sketching', 'Horse Riding']}\n"
     ]
    }
   ],
   "source": [
    "\n",
    "import json\n",
    "  \n",
    "# JSON string:\n",
    "# Multi-line string\n",
    "x = \"\"\"{\n",
    "    \"Name\": \"Jennifer Smith\",\n",
    "    \"Contact Number\": 7867567898,\n",
    "    \"Email\": \"jen123@gmail.com\",\n",
    "    \"Hobbies\":[\"Reading\", \"Sketching\", \"Horse Riding\"]\n",
    "    }\"\"\"\n",
    "  \n",
    "# parse x:\n",
    "y = json.loads(x)\n",
    "  \n",
    "# the result is a Python dictionary:\n",
    "print(y)"
   ]
  },
  {
   "cell_type": "markdown",
   "metadata": {},
   "source": [
    "### Scraping the Data\n",
    "\n",
    "<b> Question 2</b> Using the contents and `beautiful soup` load the data from the `By market capitalization` table into a `pandas` dataframe. The dataframe should have the country `Name` and `Market Cap (US$ Billion)` as column names.  Display the first five rows using head.\n"
   ]
  },
  {
   "cell_type": "markdown",
   "metadata": {},
   "source": [
    "Using BeautifulSoup parse the contents of the webpage.\n"
   ]
  },
  {
   "cell_type": "code",
   "execution_count": null,
   "metadata": {},
   "outputs": [],
   "source": [
    "#Replace the dots below\n",
    "soup=\"......\""
   ]
  },
  {
   "cell_type": "code",
   "execution_count": null,
   "metadata": {},
   "outputs": [],
   "source": [
    "soup = BeautifulSoup(response.content, \"html.parser\")"
   ]
  },
  {
   "cell_type": "markdown",
   "metadata": {},
   "source": [
    "Load the data from the `By market capitalization` table into a pandas dataframe. The dataframe should have the country `Name` and `Market Cap (US$ Billion)` as column names. Using the empty dataframe `data` and the given loop extract the necessary data from each row and append it to the empty dataframe.\n"
   ]
  },
  {
   "cell_type": "code",
   "execution_count": 28,
   "metadata": {},
   "outputs": [],
   "source": [
    "# soup"
   ]
  },
  {
   "cell_type": "code",
   "execution_count": 79,
   "metadata": {},
   "outputs": [
    {
     "name": "stdout",
     "output_type": "stream",
     "text": [
      "                                       Name Market Cap (US$ Billion)\n",
      "1                            JPMorgan Chase                  488.470\n",
      "2                           Bank of America                  379.250\n",
      "3   Industrial and Commercial Bank of China                  246.500\n",
      "4                               Wells Fargo                  308.013\n",
      "5                   China Construction Bank                  257.399\n",
      "..                                      ...                      ...\n",
      "66                             Ping An Bank                   37.993\n",
      "67                       Standard Chartered                   37.319\n",
      "68                     United Overseas Bank                   35.128\n",
      "69                                QNB Group                   33.560\n",
      "70                    Bank Rakyat Indonesia                   33.081\n",
      "\n",
      "[70 rows x 2 columns]\n"
     ]
    }
   ],
   "source": [
    "data = pd.DataFrame(columns=[\"Name\", \"Market Cap (US$ Billion)\"])\n",
    "\n",
    "i = 0\n",
    "index = 0 \n",
    "\n",
    "for row in soup.find_all('tbody')[3].find_all('tr'):\n",
    "    # cols = list(row.find_all('td'))\n",
    "    cols = row.find_all('td')\n",
    "    #Write your code here\n",
    "    # print(type(cols))\n",
    "    if i > 0 :\n",
    "        # print(cols)\n",
    "        # print(cols[1].text)\n",
    "        # print(cols[2].text)\n",
    "        data.at[index, \"Name\"] = cols[1].text.strip()\n",
    "        data.at[index, \"Market Cap (US$ Billion)\"] = cols[2].text.strip()\n",
    "        \n",
    "        # for col in cols:\n",
    "          #  print(col.text)\n",
    "    \n",
    "        \n",
    "    index = index + 1\n",
    "    i += 1\n",
    "    \n",
    "    \n",
    "    \n",
    "#     if i > 2 :\n",
    "#         break\n",
    "\n",
    "print(data)"
   ]
  },
  {
   "cell_type": "markdown",
   "metadata": {},
   "source": [
    "**Question 3** Display the first five rows using the `head` function.\n"
   ]
  },
  {
   "cell_type": "code",
   "execution_count": 80,
   "metadata": {},
   "outputs": [
    {
     "data": {
      "text/html": [
       "<div>\n",
       "<style scoped>\n",
       "    .dataframe tbody tr th:only-of-type {\n",
       "        vertical-align: middle;\n",
       "    }\n",
       "\n",
       "    .dataframe tbody tr th {\n",
       "        vertical-align: top;\n",
       "    }\n",
       "\n",
       "    .dataframe thead th {\n",
       "        text-align: right;\n",
       "    }\n",
       "</style>\n",
       "<table border=\"1\" class=\"dataframe\">\n",
       "  <thead>\n",
       "    <tr style=\"text-align: right;\">\n",
       "      <th></th>\n",
       "      <th>Name</th>\n",
       "      <th>Market Cap (US$ Billion)</th>\n",
       "    </tr>\n",
       "  </thead>\n",
       "  <tbody>\n",
       "    <tr>\n",
       "      <th>1</th>\n",
       "      <td>JPMorgan Chase</td>\n",
       "      <td>488.470</td>\n",
       "    </tr>\n",
       "    <tr>\n",
       "      <th>2</th>\n",
       "      <td>Bank of America</td>\n",
       "      <td>379.250</td>\n",
       "    </tr>\n",
       "    <tr>\n",
       "      <th>3</th>\n",
       "      <td>Industrial and Commercial Bank of China</td>\n",
       "      <td>246.500</td>\n",
       "    </tr>\n",
       "    <tr>\n",
       "      <th>4</th>\n",
       "      <td>Wells Fargo</td>\n",
       "      <td>308.013</td>\n",
       "    </tr>\n",
       "    <tr>\n",
       "      <th>5</th>\n",
       "      <td>China Construction Bank</td>\n",
       "      <td>257.399</td>\n",
       "    </tr>\n",
       "  </tbody>\n",
       "</table>\n",
       "</div>"
      ],
      "text/plain": [
       "                                      Name Market Cap (US$ Billion)\n",
       "1                           JPMorgan Chase                  488.470\n",
       "2                          Bank of America                  379.250\n",
       "3  Industrial and Commercial Bank of China                  246.500\n",
       "4                              Wells Fargo                  308.013\n",
       "5                  China Construction Bank                  257.399"
      ]
     },
     "execution_count": 80,
     "metadata": {},
     "output_type": "execute_result"
    }
   ],
   "source": [
    "#Write your code here\n",
    "data.head(5)\n"
   ]
  },
  {
   "cell_type": "markdown",
   "metadata": {},
   "source": [
    "### Loading the Data\n",
    "\n",
    "Usually you will Load the `pandas` dataframe created above into a JSON named `bank_market_cap.json` using the `to_json()` function, but this time the data will be sent to another team who will split the data file into two files and inspect it. If you save the data it will interfere with the next part of the assignment.\n"
   ]
  },
  {
   "cell_type": "code",
   "execution_count": 81,
   "metadata": {},
   "outputs": [
    {
     "data": {
      "text/plain": [
       "'{\"Name\":{\"1\":\"JPMorgan Chase\",\"2\":\"Bank of America\",\"3\":\"Industrial and Commercial Bank of China\",\"4\":\"Wells Fargo\",\"5\":\"China Construction Bank\",\"6\":\"HSBC Holdings PLC\",\"7\":\"Agricultural Bank of China\",\"8\":\"Citigroup Inc.\",\"9\":\"Bank of China\",\"10\":\"HDFC Bank\",\"11\":\"Goldman Sachs\",\"12\":\"China Merchants Bank\",\"13\":\"Royal Bank of Canada\",\"14\":\"Banco Santander\",\"15\":\"Commonwealth Bank\",\"16\":\"Mitsubishi UFJ Financial Group\",\"17\":\"Toronto-Dominion Bank\",\"18\":\"Sberbank of Russia\",\"19\":\"Morgan Stanley\",\"20\":\"U.S. Bancorp\",\"21\":\"BNP Paribas\",\"22\":\"Ita\\\\u00fa Unibanco\",\"23\":\"Westpac\",\"24\":\"Scotiabank\",\"25\":\"ING Group\",\"26\":\"UBS\",\"27\":\"Charles Schwab\",\"28\":\"PNC Financial Services\",\"29\":\"Lloyds Banking Group\",\"30\":\"Sumitomo Mitsui Financial Group\",\"31\":\"Bank of Communications\",\"32\":\"Australia and New Zealand Banking Group\",\"33\":\"Banco Bradesco\",\"34\":\"National Australia Bank\",\"35\":\"Intesa Sanpaolo\",\"36\":\"Banco Bilbao Vizcaya Argentaria\",\"37\":\"Japan Post Bank\",\"38\":\"The Bank of New York Mellon\",\"39\":\"Shanghai Pudong Development Bank\",\"40\":\"Industrial Bank (China)\",\"41\":\"Bank of China (Hong Kong)\",\"42\":\"Bank of Montreal\",\"43\":\"Cr\\\\u00e9dit Agricole\",\"44\":\"DBS Bank\",\"45\":\"Nordea\",\"46\":\"Capital One\",\"47\":\"NatWest Group\",\"48\":\"Mizuho Financial Group\",\"49\":\"Credit Suisse\",\"50\":\"Postal Savings Bank of China\",\"51\":\"China Minsheng Bank\",\"52\":\"UniCredit\",\"53\":\"China CITIC Bank\",\"54\":\"Hang Seng Bank\",\"55\":\"Soci\\\\u00e9t\\\\u00e9 G\\\\u00e9n\\\\u00e9rale\",\"56\":\"Barclays\",\"57\":\"Canadian Imperial Bank of Commerce\",\"58\":\"Bank Central Asia\",\"59\":\"Truist Financial\",\"60\":\"Oversea-Chinese Banking Corp\",\"61\":\"State Bank of India\",\"62\":\"State Street Corporation\",\"63\":\"Deutsche Bank\",\"64\":\"KBC Bank\",\"65\":\"Danske Bank\",\"66\":\"Ping An Bank\",\"67\":\"Standard Chartered\",\"68\":\"United Overseas Bank\",\"69\":\"QNB Group\",\"70\":\"Bank Rakyat Indonesia\"},\"Market Cap (US$ Billion)\":{\"1\":\"488.470\",\"2\":\"379.250\",\"3\":\"246.500\",\"4\":\"308.013\",\"5\":\"257.399\",\"6\":\"219.270\",\"7\":\"203.244\",\"8\":\"203.165\",\"9\":\"181.469\",\"10\":\"134.4\",\"11\":\"131.680\",\"12\":\"122.616\",\"13\":\"122.564\",\"14\":\"115.696\",\"15\":\"112.227\",\"16\":\"111.660\",\"17\":\"108.449\",\"18\":\"99.840\",\"19\":\"99.651\",\"20\":\"94.558\",\"21\":\"93.329\",\"22\":\"86.203\",\"23\":\"84.560\",\"24\":\"78.947\",\"25\":\"78.920\",\"26\":\"75.482\",\"27\":\"74.255\",\"28\":\"72.246\",\"29\":\"71.253\",\"30\":\"67.328\",\"31\":\"67.078\",\"32\":\"66.448\",\"33\":\"64.816\",\"34\":\"63.794\",\"35\":\"62.032\",\"36\":\"60.678\",\"37\":\"60.525\",\"38\":\"59.823\",\"39\":\"58.796\",\"40\":\"57.388\",\"41\":\"55.449\",\"42\":\"53.181\",\"43\":\"52.141\",\"44\":\"51.475\",\"45\":\"51.185\",\"46\":\"51.107\",\"47\":\"50.490\",\"48\":\"50.018\",\"49\":\"48.462\",\"50\":\"47.948\",\"51\":\"47.921\",\"52\":\"47.777\",\"53\":\"47.451\",\"54\":\"46.171\",\"55\":\"46.051\",\"56\":\"45.850\",\"57\":\"43.544\",\"58\":\"43.344\",\"59\":\"41.923\",\"60\":\"41.362\",\"61\":\"55.7\",\"62\":\"39.769\",\"63\":\"38.649\",\"64\":\"38.394\",\"65\":\"38.223\",\"66\":\"37.993\",\"67\":\"37.319\",\"68\":\"35.128\",\"69\":\"33.560\",\"70\":\"33.081\"}}'"
      ]
     },
     "execution_count": 81,
     "metadata": {},
     "output_type": "execute_result"
    }
   ],
   "source": [
    "#Write your code here\n",
    "data.to_json()\n"
   ]
  },
  {
   "cell_type": "markdown",
   "metadata": {},
   "source": [
    "## Authors\n"
   ]
  },
  {
   "cell_type": "markdown",
   "metadata": {},
   "source": [
    "Ramesh Sannareddy, Joseph Santarcangelo and Azim Hirjani\n"
   ]
  },
  {
   "cell_type": "markdown",
   "metadata": {},
   "source": [
    "### Other Contributors\n"
   ]
  },
  {
   "cell_type": "markdown",
   "metadata": {},
   "source": [
    "Rav Ahuja\n"
   ]
  },
  {
   "cell_type": "markdown",
   "metadata": {},
   "source": [
    "## Change Log\n"
   ]
  },
  {
   "cell_type": "markdown",
   "metadata": {},
   "source": [
    "| Date (YYYY-MM-DD) | Version | Changed By        | Change Description                 |\n",
    "| ----------------- | ------- | ----------------- | ---------------------------------- |\n",
    "| 2020-11-25        | 0.1     | Ramesh Sannareddy | Created initial version of the lab |\n"
   ]
  },
  {
   "cell_type": "markdown",
   "metadata": {},
   "source": [
    "Copyright © 2020 IBM Corporation.\n"
   ]
  }
 ],
 "metadata": {
  "kernelspec": {
   "display_name": "Python",
   "language": "python",
   "name": "conda-env-python-py"
  },
  "language_info": {
   "codemirror_mode": {
    "name": "ipython",
    "version": 3
   },
   "file_extension": ".py",
   "mimetype": "text/x-python",
   "name": "python",
   "nbconvert_exporter": "python",
   "pygments_lexer": "ipython3",
   "version": "3.7.12"
  }
 },
 "nbformat": 4,
 "nbformat_minor": 4
}
