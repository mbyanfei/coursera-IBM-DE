{
 "cells": [
  {
   "cell_type": "markdown",
   "metadata": {},
   "source": [
    "<center>\n",
    "    <img src=\"https://gitlab.com/ibm/skills-network/courses/placeholder101/-/raw/master/labs/module%201/images/IDSNlogo.png\" width=\"300\" alt=\"cognitiveclass.ai logo\"  />\n",
    "</center>\n"
   ]
  },
  {
   "cell_type": "markdown",
   "metadata": {},
   "source": [
    "# Peer Review Assignment - Data Engineer - Extract API Data\n"
   ]
  },
  {
   "cell_type": "markdown",
   "metadata": {},
   "source": [
    "Estimated time needed: **20** minutes\n"
   ]
  },
  {
   "cell_type": "markdown",
   "metadata": {},
   "source": [
    "## Objectives\n",
    "\n",
    "In this part you will:\n",
    "\n",
    "*   Collect exchange rate data using an API\n",
    "*   Store the data as a CSV\n"
   ]
  },
  {
   "cell_type": "markdown",
   "metadata": {},
   "source": [
    "For this lab, we are going to be using Python and several Python libraries. Some of these libraries might be installed in your lab environment or in SN Labs. Others may need to be installed by you. The cells below will install these libraries when executed.\n"
   ]
  },
  {
   "cell_type": "code",
   "execution_count": null,
   "metadata": {},
   "outputs": [],
   "source": [
    "#!pip install pandas\n",
    "#!pip install requests"
   ]
  },
  {
   "cell_type": "markdown",
   "metadata": {},
   "source": [
    "## Imports\n",
    "\n",
    "Import any additional libraries you may need here.\n"
   ]
  },
  {
   "cell_type": "code",
   "execution_count": 1,
   "metadata": {},
   "outputs": [],
   "source": [
    "import requests\n",
    "import pandas as pd"
   ]
  },
  {
   "cell_type": "markdown",
   "metadata": {},
   "source": [
    "## Extract Data Using an API\n"
   ]
  },
  {
   "cell_type": "markdown",
   "metadata": {},
   "source": [
    "Using ExchangeRate-API we will extract currency exchange rate data. Use the below steps to get the access key and to get the data.\n",
    "\n",
    "1.  Open the url : [https://exchangeratesapi.io/](https://exchangeratesapi.io/?utm_medium=Exinfluencer&utm_source=Exinfluencer&utm_content=000026UJ&utm_term=10006555&utm_id=NA-SkillsNetwork-Channel-SkillsNetworkCoursesIBMDeveloperSkillsNetworkPY0221ENSkillsNetwork23455645-2021-01-01) and create a free account.\n",
    "2.  Once the account is created. You will get the Get the Free API key option on the top as shown below:\n",
    "\n",
    "<img src=\"https://cf-courses-data.s3.us.cloud-object-storage.appdomain.cloud/IBMDeveloperSkillsNetwork-PY0221EN-SkillsNetwork/labs/module%206/Final%20Assignment/Images/getapi.png\"/>\n",
    "\n",
    "3.  Copy the API key and use in the url in Question 1.\n"
   ]
  },
  {
   "cell_type": "markdown",
   "metadata": {},
   "source": [
    "### Call the API\n",
    "\n",
    "<b> Question 1</b> Using the `requests` library call the endpoint given above and save the text, remember the first few characters of the output:\n"
   ]
  },
  {
   "cell_type": "code",
   "execution_count": 2,
   "metadata": {},
   "outputs": [],
   "source": [
    "# Write your code here\n",
    "url = \"http://api.exchangeratesapi.io/v1/latest?base=EUR&access_key=18c41ff53cc58562992f1ba1a970d844\"  #Make sure to change ******* to your API key.\n"
   ]
  },
  {
   "cell_type": "code",
   "execution_count": null,
   "metadata": {},
   "outputs": [],
   "source": [
    "http://api.exchangeratesapi.io/v1/latest?access_key=18c41ff53cc58562992f1ba1a970d844"
   ]
  },
  {
   "cell_type": "markdown",
   "metadata": {},
   "source": [
    "### Save as DataFrame\n",
    "\n",
    "<b> Question 2</b>  Using the data gathered turn it into a `pandas` dataframe. The dataframe should have the Currency as the index and `Rate` as their columns. Make sure to drop unnecessary columns.\n"
   ]
  },
  {
   "cell_type": "code",
   "execution_count": 3,
   "metadata": {},
   "outputs": [
    {
     "name": "stdout",
     "output_type": "stream",
     "text": [
      "200\n"
     ]
    }
   ],
   "source": [
    "# Turn the data into a dataframe\n",
    "#Write your code here\n",
    "response = requests.get(url)\n",
    "print(response.status_code)\n"
   ]
  },
  {
   "cell_type": "code",
   "execution_count": 7,
   "metadata": {},
   "outputs": [
    {
     "data": {
      "text/plain": [
       "{'success': True,\n",
       " 'timestamp': 1639889344,\n",
       " 'base': 'EUR',\n",
       " 'date': '2021-12-19',\n",
       " 'rates': {'AED': 4.12787,\n",
       "  'AFN': 115.7104,\n",
       "  'ALL': 120.749546,\n",
       "  'AMD': 557.435576,\n",
       "  'ANG': 2.039455,\n",
       "  'AOA': 638.337406,\n",
       "  'ARS': 115.278973,\n",
       "  'AUD': 1.577277,\n",
       "  'AWG': 2.023419,\n",
       "  'AZN': 1.914938,\n",
       "  'BAM': 1.955499,\n",
       "  'BBD': 2.284913,\n",
       "  'BDT': 97.138946,\n",
       "  'BGN': 1.953866,\n",
       "  'BHD': 0.426628,\n",
       "  'BIF': 2255.817887,\n",
       "  'BMD': 1.12381,\n",
       "  'BND': 1.544738,\n",
       "  'BOB': 7.802578,\n",
       "  'BRL': 6.401591,\n",
       "  'BSD': 1.131608,\n",
       "  'BTC': 2.3405171e-05,\n",
       "  'BTN': 85.055692,\n",
       "  'BWP': 13.266453,\n",
       "  'BYN': 2.865615,\n",
       "  'BYR': 22026.668898,\n",
       "  'BZD': 2.281014,\n",
       "  'CAD': 1.449131,\n",
       "  'CDF': 2250.991111,\n",
       "  'CHF': 1.038702,\n",
       "  'CLF': 0.034829,\n",
       "  'CLP': 961.041009,\n",
       "  'CNY': 7.164741,\n",
       "  'COP': 4547.829642,\n",
       "  'CRC': 722.17767,\n",
       "  'CUC': 1.12381,\n",
       "  'CUP': 29.780955,\n",
       "  'CVE': 110.246325,\n",
       "  'CZK': 25.220368,\n",
       "  'DJF': 201.455875,\n",
       "  'DKK': 7.437114,\n",
       "  'DOP': 64.299108,\n",
       "  'DZD': 156.234309,\n",
       "  'EGP': 17.690003,\n",
       "  'ERN': 16.857232,\n",
       "  'ETB': 55.25814,\n",
       "  'EUR': 1,\n",
       "  'FJD': 2.401361,\n",
       "  'FKP': 0.847778,\n",
       "  'GBP': 0.848382,\n",
       "  'GEL': 3.466998,\n",
       "  'GGP': 0.847778,\n",
       "  'GHS': 6.888833,\n",
       "  'GIP': 0.847778,\n",
       "  'GMD': 59.416254,\n",
       "  'GNF': 10728.982615,\n",
       "  'GTQ': 8.750318,\n",
       "  'GYD': 236.649914,\n",
       "  'HKD': 8.768581,\n",
       "  'HNL': 27.433353,\n",
       "  'HRK': 7.51728,\n",
       "  'HTG': 113.667746,\n",
       "  'HUF': 367.317616,\n",
       "  'IDR': 16166.844495,\n",
       "  'ILS': 3.51358,\n",
       "  'IMP': 0.847778,\n",
       "  'INR': 85.424708,\n",
       "  'IQD': 1651.610233,\n",
       "  'IRR': 47480.957587,\n",
       "  'ISK': 146.387877,\n",
       "  'JEP': 0.847778,\n",
       "  'JMD': 174.276479,\n",
       "  'JOD': 0.796336,\n",
       "  'JPY': 127.794057,\n",
       "  'KES': 127.874039,\n",
       "  'KGS': 95.298388,\n",
       "  'KHR': 4610.219074,\n",
       "  'KMF': 491.526285,\n",
       "  'KPW': 1011.428587,\n",
       "  'KRW': 1334.962661,\n",
       "  'KWD': 0.340571,\n",
       "  'KYD': 0.94304,\n",
       "  'KZT': 495.596051,\n",
       "  'LAK': 12538.476105,\n",
       "  'LBP': 1711.210138,\n",
       "  'LKR': 228.588979,\n",
       "  'LRD': 159.58136,\n",
       "  'LSL': 17.846526,\n",
       "  'LTL': 3.318318,\n",
       "  'LVL': 0.679782,\n",
       "  'LYD': 5.209518,\n",
       "  'MAD': 10.480425,\n",
       "  'MDL': 20.086398,\n",
       "  'MGA': 4489.739482,\n",
       "  'MKD': 61.619562,\n",
       "  'MMK': 2014.298598,\n",
       "  'MNT': 3212.280221,\n",
       "  'MOP': 9.095259,\n",
       "  'MRO': 401.199847,\n",
       "  'MUR': 49.279478,\n",
       "  'MVR': 17.310873,\n",
       "  'MWK': 923.861507,\n",
       "  'MXN': 23.420534,\n",
       "  'MYR': 4.740795,\n",
       "  'MZN': 71.733193,\n",
       "  'NAD': 17.846521,\n",
       "  'NGN': 460.942185,\n",
       "  'NIO': 40.065213,\n",
       "  'NOK': 10.160144,\n",
       "  'NPR': 136.088948,\n",
       "  'NZD': 1.667497,\n",
       "  'OMR': 0.435726,\n",
       "  'PAB': 1.131608,\n",
       "  'PEN': 4.575325,\n",
       "  'PGK': 4.007921,\n",
       "  'PHP': 56.056046,\n",
       "  'PKR': 201.656141,\n",
       "  'PLN': 4.631399,\n",
       "  'PYG': 7691.29717,\n",
       "  'QAR': 4.091834,\n",
       "  'RON': 4.949599,\n",
       "  'RSD': 117.560086,\n",
       "  'RUB': 83.357348,\n",
       "  'RWF': 1173.271259,\n",
       "  'SAR': 4.217793,\n",
       "  'SBD': 9.096028,\n",
       "  'SCR': 14.955767,\n",
       "  'SDG': 491.67085,\n",
       "  'SEK': 10.308261,\n",
       "  'SGD': 1.537271,\n",
       "  'SHP': 1.54794,\n",
       "  'SLL': 12609.144515,\n",
       "  'SOS': 656.305209,\n",
       "  'SRD': 24.19454,\n",
       "  'STD': 23260.590537,\n",
       "  'SVC': 9.901323,\n",
       "  'SYP': 2823.563604,\n",
       "  'SZL': 17.953859,\n",
       "  'THB': 37.445752,\n",
       "  'TJS': 12.770437,\n",
       "  'TMT': 3.933334,\n",
       "  'TND': 3.209643,\n",
       "  'TOP': 2.576165,\n",
       "  'TRY': 18.451273,\n",
       "  'TTD': 7.695296,\n",
       "  'TWD': 31.289337,\n",
       "  'TZS': 2609.53797,\n",
       "  'UAH': 30.842276,\n",
       "  'UGX': 4022.918557,\n",
       "  'USD': 1.12381,\n",
       "  'UYU': 50.216494,\n",
       "  'UZS': 12245.715696,\n",
       "  'VEF': 240304464683.14218,\n",
       "  'VND': 25827.954997,\n",
       "  'VUV': 127.274423,\n",
       "  'WST': 2.922097,\n",
       "  'XAF': 655.845906,\n",
       "  'XAG': 0.050245,\n",
       "  'XAU': 0.000625,\n",
       "  'XCD': 3.037152,\n",
       "  'XDR': 0.809563,\n",
       "  'XOF': 655.845906,\n",
       "  'XPF': 119.629945,\n",
       "  'YER': 281.233771,\n",
       "  'ZAR': 17.895601,\n",
       "  'ZMK': 10115.639348,\n",
       "  'ZMW': 18.603949,\n",
       "  'ZWL': 361.866245}}"
      ]
     },
     "execution_count": 7,
     "metadata": {},
     "output_type": "execute_result"
    }
   ],
   "source": [
    "import json\n",
    "json.loads(response.text)"
   ]
  },
  {
   "cell_type": "code",
   "execution_count": 5,
   "metadata": {},
   "outputs": [],
   "source": [
    "df = pd.read_json(response.text)"
   ]
  },
  {
   "cell_type": "code",
   "execution_count": 6,
   "metadata": {},
   "outputs": [
    {
     "data": {
      "text/html": [
       "<div>\n",
       "<style scoped>\n",
       "    .dataframe tbody tr th:only-of-type {\n",
       "        vertical-align: middle;\n",
       "    }\n",
       "\n",
       "    .dataframe tbody tr th {\n",
       "        vertical-align: top;\n",
       "    }\n",
       "\n",
       "    .dataframe thead th {\n",
       "        text-align: right;\n",
       "    }\n",
       "</style>\n",
       "<table border=\"1\" class=\"dataframe\">\n",
       "  <thead>\n",
       "    <tr style=\"text-align: right;\">\n",
       "      <th></th>\n",
       "      <th>success</th>\n",
       "      <th>timestamp</th>\n",
       "      <th>base</th>\n",
       "      <th>date</th>\n",
       "      <th>rates</th>\n",
       "    </tr>\n",
       "  </thead>\n",
       "  <tbody>\n",
       "    <tr>\n",
       "      <th>AED</th>\n",
       "      <td>True</td>\n",
       "      <td>2021-12-19 04:49:04</td>\n",
       "      <td>EUR</td>\n",
       "      <td>2021-12-19</td>\n",
       "      <td>4.127870</td>\n",
       "    </tr>\n",
       "    <tr>\n",
       "      <th>AFN</th>\n",
       "      <td>True</td>\n",
       "      <td>2021-12-19 04:49:04</td>\n",
       "      <td>EUR</td>\n",
       "      <td>2021-12-19</td>\n",
       "      <td>115.710400</td>\n",
       "    </tr>\n",
       "    <tr>\n",
       "      <th>ALL</th>\n",
       "      <td>True</td>\n",
       "      <td>2021-12-19 04:49:04</td>\n",
       "      <td>EUR</td>\n",
       "      <td>2021-12-19</td>\n",
       "      <td>120.749546</td>\n",
       "    </tr>\n",
       "    <tr>\n",
       "      <th>AMD</th>\n",
       "      <td>True</td>\n",
       "      <td>2021-12-19 04:49:04</td>\n",
       "      <td>EUR</td>\n",
       "      <td>2021-12-19</td>\n",
       "      <td>557.435576</td>\n",
       "    </tr>\n",
       "    <tr>\n",
       "      <th>ANG</th>\n",
       "      <td>True</td>\n",
       "      <td>2021-12-19 04:49:04</td>\n",
       "      <td>EUR</td>\n",
       "      <td>2021-12-19</td>\n",
       "      <td>2.039455</td>\n",
       "    </tr>\n",
       "    <tr>\n",
       "      <th>...</th>\n",
       "      <td>...</td>\n",
       "      <td>...</td>\n",
       "      <td>...</td>\n",
       "      <td>...</td>\n",
       "      <td>...</td>\n",
       "    </tr>\n",
       "    <tr>\n",
       "      <th>YER</th>\n",
       "      <td>True</td>\n",
       "      <td>2021-12-19 04:49:04</td>\n",
       "      <td>EUR</td>\n",
       "      <td>2021-12-19</td>\n",
       "      <td>281.233771</td>\n",
       "    </tr>\n",
       "    <tr>\n",
       "      <th>ZAR</th>\n",
       "      <td>True</td>\n",
       "      <td>2021-12-19 04:49:04</td>\n",
       "      <td>EUR</td>\n",
       "      <td>2021-12-19</td>\n",
       "      <td>17.895601</td>\n",
       "    </tr>\n",
       "    <tr>\n",
       "      <th>ZMK</th>\n",
       "      <td>True</td>\n",
       "      <td>2021-12-19 04:49:04</td>\n",
       "      <td>EUR</td>\n",
       "      <td>2021-12-19</td>\n",
       "      <td>10115.639348</td>\n",
       "    </tr>\n",
       "    <tr>\n",
       "      <th>ZMW</th>\n",
       "      <td>True</td>\n",
       "      <td>2021-12-19 04:49:04</td>\n",
       "      <td>EUR</td>\n",
       "      <td>2021-12-19</td>\n",
       "      <td>18.603949</td>\n",
       "    </tr>\n",
       "    <tr>\n",
       "      <th>ZWL</th>\n",
       "      <td>True</td>\n",
       "      <td>2021-12-19 04:49:04</td>\n",
       "      <td>EUR</td>\n",
       "      <td>2021-12-19</td>\n",
       "      <td>361.866245</td>\n",
       "    </tr>\n",
       "  </tbody>\n",
       "</table>\n",
       "<p>168 rows × 5 columns</p>\n",
       "</div>"
      ],
      "text/plain": [
       "     success           timestamp base       date         rates\n",
       "AED     True 2021-12-19 04:49:04  EUR 2021-12-19      4.127870\n",
       "AFN     True 2021-12-19 04:49:04  EUR 2021-12-19    115.710400\n",
       "ALL     True 2021-12-19 04:49:04  EUR 2021-12-19    120.749546\n",
       "AMD     True 2021-12-19 04:49:04  EUR 2021-12-19    557.435576\n",
       "ANG     True 2021-12-19 04:49:04  EUR 2021-12-19      2.039455\n",
       "..       ...                 ...  ...        ...           ...\n",
       "YER     True 2021-12-19 04:49:04  EUR 2021-12-19    281.233771\n",
       "ZAR     True 2021-12-19 04:49:04  EUR 2021-12-19     17.895601\n",
       "ZMK     True 2021-12-19 04:49:04  EUR 2021-12-19  10115.639348\n",
       "ZMW     True 2021-12-19 04:49:04  EUR 2021-12-19     18.603949\n",
       "ZWL     True 2021-12-19 04:49:04  EUR 2021-12-19    361.866245\n",
       "\n",
       "[168 rows x 5 columns]"
      ]
     },
     "execution_count": 6,
     "metadata": {},
     "output_type": "execute_result"
    }
   ],
   "source": [
    "df"
   ]
  },
  {
   "cell_type": "code",
   "execution_count": 10,
   "metadata": {},
   "outputs": [],
   "source": [
    "# Drop unnescessary columns\n",
    "df = df.drop(['success', 'timestamp', 'base', 'date'], axis = 1)"
   ]
  },
  {
   "cell_type": "code",
   "execution_count": 11,
   "metadata": {},
   "outputs": [
    {
     "data": {
      "text/html": [
       "<div>\n",
       "<style scoped>\n",
       "    .dataframe tbody tr th:only-of-type {\n",
       "        vertical-align: middle;\n",
       "    }\n",
       "\n",
       "    .dataframe tbody tr th {\n",
       "        vertical-align: top;\n",
       "    }\n",
       "\n",
       "    .dataframe thead th {\n",
       "        text-align: right;\n",
       "    }\n",
       "</style>\n",
       "<table border=\"1\" class=\"dataframe\">\n",
       "  <thead>\n",
       "    <tr style=\"text-align: right;\">\n",
       "      <th></th>\n",
       "      <th>rates</th>\n",
       "    </tr>\n",
       "  </thead>\n",
       "  <tbody>\n",
       "    <tr>\n",
       "      <th>AED</th>\n",
       "      <td>4.127870</td>\n",
       "    </tr>\n",
       "    <tr>\n",
       "      <th>AFN</th>\n",
       "      <td>115.710400</td>\n",
       "    </tr>\n",
       "    <tr>\n",
       "      <th>ALL</th>\n",
       "      <td>120.749546</td>\n",
       "    </tr>\n",
       "    <tr>\n",
       "      <th>AMD</th>\n",
       "      <td>557.435576</td>\n",
       "    </tr>\n",
       "    <tr>\n",
       "      <th>ANG</th>\n",
       "      <td>2.039455</td>\n",
       "    </tr>\n",
       "    <tr>\n",
       "      <th>...</th>\n",
       "      <td>...</td>\n",
       "    </tr>\n",
       "    <tr>\n",
       "      <th>YER</th>\n",
       "      <td>281.233771</td>\n",
       "    </tr>\n",
       "    <tr>\n",
       "      <th>ZAR</th>\n",
       "      <td>17.895601</td>\n",
       "    </tr>\n",
       "    <tr>\n",
       "      <th>ZMK</th>\n",
       "      <td>10115.639348</td>\n",
       "    </tr>\n",
       "    <tr>\n",
       "      <th>ZMW</th>\n",
       "      <td>18.603949</td>\n",
       "    </tr>\n",
       "    <tr>\n",
       "      <th>ZWL</th>\n",
       "      <td>361.866245</td>\n",
       "    </tr>\n",
       "  </tbody>\n",
       "</table>\n",
       "<p>168 rows × 1 columns</p>\n",
       "</div>"
      ],
      "text/plain": [
       "            rates\n",
       "AED      4.127870\n",
       "AFN    115.710400\n",
       "ALL    120.749546\n",
       "AMD    557.435576\n",
       "ANG      2.039455\n",
       "..            ...\n",
       "YER    281.233771\n",
       "ZAR     17.895601\n",
       "ZMK  10115.639348\n",
       "ZMW     18.603949\n",
       "ZWL    361.866245\n",
       "\n",
       "[168 rows x 1 columns]"
      ]
     },
     "execution_count": 11,
     "metadata": {},
     "output_type": "execute_result"
    }
   ],
   "source": [
    "df"
   ]
  },
  {
   "cell_type": "markdown",
   "metadata": {},
   "source": [
    "### Load the Data\n",
    "\n",
    "Using the dataframe save it as a CSV names `exchange_rates_1.csv`.\n"
   ]
  },
  {
   "cell_type": "code",
   "execution_count": 12,
   "metadata": {},
   "outputs": [],
   "source": [
    "# Save the Dataframe\n",
    "df.to_csv('exchange_rates_1.csv')\n"
   ]
  },
  {
   "cell_type": "markdown",
   "metadata": {},
   "source": [
    "Your CSV should be in this format with more currencies\n",
    "\n",
    "|     | Rates      |\n",
    "| --- | ---------- |\n",
    "| AED | 4.398618   |\n",
    "| AFN | 92.917693  |\n",
    "| ALL | 123.099093 |\n",
    "| AMD | 621.935674 |\n",
    "| ANG | 2.149648   |\n"
   ]
  },
  {
   "cell_type": "markdown",
   "metadata": {},
   "source": [
    "## Authors\n"
   ]
  },
  {
   "cell_type": "markdown",
   "metadata": {},
   "source": [
    "Ramesh Sannareddy, Joseph Santarcangelo and Azim Hirjani\n"
   ]
  },
  {
   "cell_type": "markdown",
   "metadata": {},
   "source": [
    "### Other Contributors\n"
   ]
  },
  {
   "cell_type": "markdown",
   "metadata": {},
   "source": [
    "Rav Ahuja\n"
   ]
  },
  {
   "cell_type": "markdown",
   "metadata": {},
   "source": [
    "## Change Log\n"
   ]
  },
  {
   "cell_type": "markdown",
   "metadata": {},
   "source": [
    "| Date (YYYY-MM-DD) | Version | Changed By        | Change Description                 |\n",
    "| ----------------- | ------- | ----------------- | ---------------------------------- |\n",
    "| 2021-04-15        | 0.2     | Malika            | Updated the lab from USD to EUR    |\n",
    "| 2020-11-25        | 0.1     | Ramesh Sannareddy | Created initial version of the lab |\n"
   ]
  },
  {
   "cell_type": "markdown",
   "metadata": {},
   "source": [
    "Copyright © 2020 IBM Corporation. This notebook and its source code are released under the terms of the [MIT License](https://cognitiveclass.ai/mit-license?utm_medium=Exinfluencer&utm_source=Exinfluencer&utm_content=000026UJ&utm_term=10006555&utm_id=NA-SkillsNetwork-Channel-SkillsNetworkCoursesIBMDeveloperSkillsNetworkPY0221ENSkillsNetwork23455645-2021-01-01&cm_mmc=Email_Newsletter-\\_-Developer_Ed%2BTech-\\_-WW_WW-\\_-SkillsNetwork-Courses-IBM-DA0321EN-SkillsNetwork-21426264&cm_mmca1=000026UJ&cm_mmca2=10006555&cm_mmca3=M12345678&cvosrc=email.Newsletter.M12345678&cvo_campaign=000026UJ).\n"
   ]
  }
 ],
 "metadata": {
  "kernelspec": {
   "display_name": "Python",
   "language": "python",
   "name": "conda-env-python-py"
  },
  "language_info": {
   "codemirror_mode": {
    "name": "ipython",
    "version": 3
   },
   "file_extension": ".py",
   "mimetype": "text/x-python",
   "name": "python",
   "nbconvert_exporter": "python",
   "pygments_lexer": "ipython3",
   "version": "3.7.12"
  }
 },
 "nbformat": 4,
 "nbformat_minor": 4
}
